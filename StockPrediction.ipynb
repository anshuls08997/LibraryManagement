{
  "nbformat": 4,
  "nbformat_minor": 0,
  "metadata": {
    "colab": {
      "provenance": [],
      "authorship_tag": "ABX9TyNDvDmtCJppZ/dX9qHcAkqN",
      "include_colab_link": true
    },
    "kernelspec": {
      "name": "python3",
      "display_name": "Python 3"
    },
    "language_info": {
      "name": "python"
    }
  },
  "cells": [
    {
      "cell_type": "markdown",
      "metadata": {
        "id": "view-in-github",
        "colab_type": "text"
      },
      "source": [
        "<a href=\"https://colab.research.google.com/github/anshuls08997/LibraryManagement/blob/main/StockPrediction.ipynb\" target=\"_parent\"><img src=\"https://colab.research.google.com/assets/colab-badge.svg\" alt=\"Open In Colab\"/></a>"
      ]
    },
    {
      "cell_type": "code",
      "source": [
        "# Stock Price Prediction\n",
        "!pip install -q yfinance plotly tensorflow scikit-learn\n",
        "\n",
        "import yfinance as yf\n",
        "import numpy as np\n",
        "import pandas as pd\n",
        "import matplotlib.pyplot as plt\n",
        "from sklearn.preprocessing import MinMaxScaler\n",
        "from tensorflow.keras.models import Sequential\n",
        "from tensorflow.keras.layers import LSTM, Dense, Dropout\n",
        "import plotly.graph_objects as go\n",
        "from datetime import datetime, timedelta\n",
        "import os\n",
        "from google.colab import files\n",
        "from tqdm import tqdm\n",
        "\n",
        "# Configuration\n",
        "config = {\n",
        "    'ticker': 'AAPL',\n",
        "    'start_date': '2020-01-01',\n",
        "    'end_date': datetime.now().strftime('%Y-%m-%d'),\n",
        "    'test_size': 0.2,\n",
        "    'lookback': 60,\n",
        "    'epochs': 10,\n",
        "    'batch_size': 30,\n",
        "    'prediction_days': 30,\n",
        "    'features': ['Close', 'Volume'],\n",
        "    'save_dir': '/content/sample_data/stock/stock_data.csv'  # New clean directory\n",
        "}\n",
        "\n",
        "\n",
        "try:\n",
        "    os.makedirs(config['save_dir'], exist_ok=True)\n",
        "    print(f\"✅ Successfully created directory: {config['save_dir']}\")\n",
        "except Exception as e:\n",
        "    print(f\"⚠️ Couldn't create directory: {e}\")\n",
        "    # Fallback to Colab's default directory\n",
        "    config['save_dir'] = '/content'\n",
        "    print(f\"Using fallback directory: {config['save_dir']}\")\n",
        "\n",
        "# Set file paths\n",
        "csv_path = os.path.join(config['save_dir'], f\"{config['ticker']}_predictions.csv\")\n",
        "model_path = os.path.join(config['save_dir'], \"stock_model.h5\")\n",
        "\n",
        "# Download stock data\n",
        "print(f\"\\n📊 Downloading {config['ticker']} data...\")\n",
        "try:\n",
        "    stock_data = yf.download(config['ticker'], start=config['start_date'], end=config['end_date'])\n",
        "    print(\"✅ Data downloaded successfully!\")\n",
        "except Exception as e:\n",
        "    print(f\"❌ Failed to download data: {e}\")\n",
        "    raise\n",
        "\n",
        "# Data Processing\n",
        "stock_data['SMA_10'] = stock_data['Close'].rolling(window=10).mean()\n",
        "stock_data['SMA_50'] = stock_data['Close'].rolling(window=50).mean()\n",
        "stock_data.dropna(inplace=True)\n",
        "\n",
        "# Scale data\n",
        "scaler = MinMaxScaler(feature_range=(0, 1))\n",
        "scaled_data = scaler.fit_transform(stock_data[config['features']])\n",
        "\n",
        "# Create sequences\n",
        "def create_sequences(data, lookback):\n",
        "    X, y = [], []\n",
        "    for i in tqdm(range(lookback, len(data)), desc=\"Creating sequences\"):\n",
        "        X.append(data[i-lookback:i, :])\n",
        "        y.append(data[i, 0])  # Predict Close price\n",
        "    return np.array(X), np.array(y)\n",
        "\n",
        "train_size = int(len(scaled_data) * (1 - config['test_size']))\n",
        "X_train, y_train = create_sequences(scaled_data[:train_size], config['lookback'])\n",
        "X_test, y_test = create_sequences(scaled_data[train_size-config['lookback']:], config['lookback'])\n",
        "\n",
        "# Build and train model\n",
        "model = Sequential([\n",
        "    LSTM(64, return_sequences=True, input_shape=(X_train.shape[1], X_train.shape[2])),\n",
        "    Dropout(0.3),\n",
        "    LSTM(64, return_sequences=False),\n",
        "    Dropout(0.3),\n",
        "    Dense(32, activation='relu'),\n",
        "    Dense(1)\n",
        "])\n",
        "model.compile(optimizer='adam', loss='mse')\n",
        "\n",
        "print(\"\\n🚀 Training model...\")\n",
        "history = model.fit(X_train, y_train, validation_data=(X_test, y_test),\n",
        "                   epochs=config['epochs'], batch_size=config['batch_size'], verbose=1)\n",
        "\n",
        "# Future predictions\n",
        "def predict_future(model, data, lookback, days_to_predict, scaler, features):\n",
        "    scaled_data = scaler.transform(data[features].values)\n",
        "    last_sequence = scaled_data[-lookback:]\n",
        "\n",
        "    predictions = []\n",
        "    for _ in tqdm(range(days_to_predict), desc=\"Predicting future\"):\n",
        "        next_pred = model.predict(last_sequence.reshape(1, *last_sequence.shape))[0, 0]\n",
        "        predictions.append(next_pred)\n",
        "        last_sequence = np.roll(last_sequence, -1, axis=0)\n",
        "        last_sequence[-1, 0] = next_pred\n",
        "\n",
        "    predictions = scaler.inverse_transform(\n",
        "        np.concatenate((np.array(predictions).reshape(-1, 1),\n",
        "                       np.zeros((len(predictions), len(features)-1))), axis=1))[:, 0]\n",
        "\n",
        "    future_dates = [data.index[-1] + timedelta(days=i) for i in range(1, days_to_predict+1)]\n",
        "    return future_dates, predictions\n",
        "\n",
        "future_dates, future_prices = predict_future(\n",
        "    model, stock_data, config['lookback'],\n",
        "    config['prediction_days'], scaler, config['features']\n",
        ")\n",
        "\n",
        "# Save predictions\n",
        "predictions_df = pd.DataFrame({\n",
        "    'Date': future_dates,\n",
        "    'Predicted_Price': future_prices,\n",
        "    'Ticker': config['ticker']\n",
        "})\n",
        "\n",
        "try:\n",
        "    predictions_df.to_csv(csv_path, index=False)\n",
        "    print(f\"\\n💾 Predictions saved to: {csv_path}\")\n",
        "    files.download(csv_path)\n",
        "except Exception as e:\n",
        "    print(f\"❌ Failed to save predictions: {e}\")\n",
        "    print(\"Showing predictions instead:\")\n",
        "    display(predictions_df.head())\n",
        "\n",
        "# Interactive plot\n",
        "fig = go.Figure()\n",
        "fig.add_trace(go.Scatter(\n",
        "    x=stock_data.index[-100:], y=stock_data['Close'][-100:],\n",
        "    mode='lines', name='Historical Price'\n",
        "))\n",
        "fig.add_trace(go.Scatter(\n",
        "    x=future_dates, y=future_prices,\n",
        "    mode='lines+markers', name='Predicted Price'\n",
        "))\n",
        "fig.update_layout(\n",
        "    title=f\"{config['ticker']} Price Forecast\",\n",
        "    xaxis_title='Date',\n",
        "    yaxis_title='Price ($)'\n",
        ")\n",
        "fig.show()"
      ],
      "metadata": {
        "colab": {
          "base_uri": "https://localhost:8080/",
          "height": 1000
        },
        "id": "jDXFXlWwlpMl",
        "outputId": "4d0b61e5-8d94-463e-8c76-55603e587ee4"
      },
      "execution_count": 8,
      "outputs": [
        {
          "output_type": "stream",
          "name": "stderr",
          "text": [
            "/tmp/ipython-input-4052856446.py:50: FutureWarning:\n",
            "\n",
            "YF.download() has changed argument auto_adjust default to True\n",
            "\n",
            "\r[*********************100%***********************]  1 of 1 completed\n"
          ]
        },
        {
          "output_type": "stream",
          "name": "stdout",
          "text": [
            "⚠️ Couldn't create directory: [Errno 17] File exists: '/content/sample_data/stock/stock_data.csv'\n",
            "Using fallback directory: /content\n",
            "\n",
            "📊 Downloading AAPL data...\n",
            "✅ Data downloaded successfully!\n"
          ]
        },
        {
          "output_type": "stream",
          "name": "stderr",
          "text": [
            "Creating sequences: 100%|██████████| 1027/1027 [00:00<00:00, 523714.31it/s]\n",
            "Creating sequences: 100%|██████████| 272/272 [00:00<00:00, 431323.51it/s]"
          ]
        },
        {
          "output_type": "stream",
          "name": "stdout",
          "text": [
            "\n",
            "🚀 Training model...\n",
            "Epoch 1/10\n"
          ]
        },
        {
          "output_type": "stream",
          "name": "stderr",
          "text": [
            "\n",
            "/usr/local/lib/python3.11/dist-packages/keras/src/layers/rnn/rnn.py:199: UserWarning:\n",
            "\n",
            "Do not pass an `input_shape`/`input_dim` argument to a layer. When using Sequential models, prefer using an `Input(shape)` object as the first layer in the model instead.\n",
            "\n"
          ]
        },
        {
          "output_type": "stream",
          "name": "stdout",
          "text": [
            "\u001b[1m35/35\u001b[0m \u001b[32m━━━━━━━━━━━━━━━━━━━━\u001b[0m\u001b[37m\u001b[0m \u001b[1m6s\u001b[0m 72ms/step - loss: 0.0801 - val_loss: 0.0201\n",
            "Epoch 2/10\n",
            "\u001b[1m35/35\u001b[0m \u001b[32m━━━━━━━━━━━━━━━━━━━━\u001b[0m\u001b[37m\u001b[0m \u001b[1m2s\u001b[0m 66ms/step - loss: 0.0061 - val_loss: 0.0052\n",
            "Epoch 3/10\n",
            "\u001b[1m35/35\u001b[0m \u001b[32m━━━━━━━━━━━━━━━━━━━━\u001b[0m\u001b[37m\u001b[0m \u001b[1m3s\u001b[0m 88ms/step - loss: 0.0038 - val_loss: 0.0053\n",
            "Epoch 4/10\n",
            "\u001b[1m35/35\u001b[0m \u001b[32m━━━━━━━━━━━━━━━━━━━━\u001b[0m\u001b[37m\u001b[0m \u001b[1m4s\u001b[0m 64ms/step - loss: 0.0034 - val_loss: 0.0047\n",
            "Epoch 5/10\n",
            "\u001b[1m35/35\u001b[0m \u001b[32m━━━━━━━━━━━━━━━━━━━━\u001b[0m\u001b[37m\u001b[0m \u001b[1m2s\u001b[0m 59ms/step - loss: 0.0031 - val_loss: 0.0035\n",
            "Epoch 6/10\n",
            "\u001b[1m35/35\u001b[0m \u001b[32m━━━━━━━━━━━━━━━━━━━━\u001b[0m\u001b[37m\u001b[0m \u001b[1m2s\u001b[0m 61ms/step - loss: 0.0030 - val_loss: 0.0040\n",
            "Epoch 7/10\n",
            "\u001b[1m35/35\u001b[0m \u001b[32m━━━━━━━━━━━━━━━━━━━━\u001b[0m\u001b[37m\u001b[0m \u001b[1m3s\u001b[0m 84ms/step - loss: 0.0028 - val_loss: 0.0046\n",
            "Epoch 8/10\n",
            "\u001b[1m35/35\u001b[0m \u001b[32m━━━━━━━━━━━━━━━━━━━━\u001b[0m\u001b[37m\u001b[0m \u001b[1m3s\u001b[0m 72ms/step - loss: 0.0027 - val_loss: 0.0033\n",
            "Epoch 9/10\n",
            "\u001b[1m35/35\u001b[0m \u001b[32m━━━━━━━━━━━━━━━━━━━━\u001b[0m\u001b[37m\u001b[0m \u001b[1m5s\u001b[0m 59ms/step - loss: 0.0021 - val_loss: 0.0030\n",
            "Epoch 10/10\n",
            "\u001b[1m35/35\u001b[0m \u001b[32m━━━━━━━━━━━━━━━━━━━━\u001b[0m\u001b[37m\u001b[0m \u001b[1m2s\u001b[0m 60ms/step - loss: 0.0021 - val_loss: 0.0053\n"
          ]
        },
        {
          "output_type": "stream",
          "name": "stderr",
          "text": [
            "\rPredicting future:   0%|          | 0/30 [00:00<?, ?it/s]"
          ]
        },
        {
          "output_type": "stream",
          "name": "stdout",
          "text": [
            "\u001b[1m1/1\u001b[0m \u001b[32m━━━━━━━━━━━━━━━━━━━━\u001b[0m\u001b[37m\u001b[0m \u001b[1m0s\u001b[0m 302ms/step\n"
          ]
        },
        {
          "output_type": "stream",
          "name": "stderr",
          "text": [
            "\rPredicting future:   3%|▎         | 1/30 [00:00<00:10,  2.86it/s]"
          ]
        },
        {
          "output_type": "stream",
          "name": "stdout",
          "text": [
            "\u001b[1m1/1\u001b[0m \u001b[32m━━━━━━━━━━━━━━━━━━━━\u001b[0m\u001b[37m\u001b[0m \u001b[1m0s\u001b[0m 39ms/step\n",
            "\u001b[1m1/1\u001b[0m \u001b[32m━━━━━━━━━━━━━━━━━━━━\u001b[0m\u001b[37m\u001b[0m \u001b[1m0s\u001b[0m 40ms/step\n"
          ]
        },
        {
          "output_type": "stream",
          "name": "stderr",
          "text": [
            "\rPredicting future:  10%|█         | 3/30 [00:00<00:04,  6.06it/s]"
          ]
        },
        {
          "output_type": "stream",
          "name": "stdout",
          "text": [
            "\u001b[1m1/1\u001b[0m \u001b[32m━━━━━━━━━━━━━━━━━━━━\u001b[0m\u001b[37m\u001b[0m \u001b[1m0s\u001b[0m 46ms/step\n",
            "\u001b[1m1/1\u001b[0m \u001b[32m━━━━━━━━━━━━━━━━━━━━\u001b[0m\u001b[37m\u001b[0m \u001b[1m0s\u001b[0m 38ms/step\n"
          ]
        },
        {
          "output_type": "stream",
          "name": "stderr",
          "text": [
            "\rPredicting future:  17%|█▋        | 5/30 [00:00<00:03,  7.55it/s]"
          ]
        },
        {
          "output_type": "stream",
          "name": "stdout",
          "text": [
            "\u001b[1m1/1\u001b[0m \u001b[32m━━━━━━━━━━━━━━━━━━━━\u001b[0m\u001b[37m\u001b[0m \u001b[1m0s\u001b[0m 38ms/step\n"
          ]
        },
        {
          "output_type": "stream",
          "name": "stderr",
          "text": [
            "\rPredicting future:  20%|██        | 6/30 [00:00<00:03,  7.77it/s]"
          ]
        },
        {
          "output_type": "stream",
          "name": "stdout",
          "text": [
            "\u001b[1m1/1\u001b[0m \u001b[32m━━━━━━━━━━━━━━━━━━━━\u001b[0m\u001b[37m\u001b[0m \u001b[1m0s\u001b[0m 82ms/step\n"
          ]
        },
        {
          "output_type": "stream",
          "name": "stderr",
          "text": [
            "\rPredicting future:  23%|██▎       | 7/30 [00:01<00:03,  7.05it/s]"
          ]
        },
        {
          "output_type": "stream",
          "name": "stdout",
          "text": [
            "\u001b[1m1/1\u001b[0m \u001b[32m━━━━━━━━━━━━━━━━━━━━\u001b[0m\u001b[37m\u001b[0m \u001b[1m0s\u001b[0m 91ms/step\n"
          ]
        },
        {
          "output_type": "stream",
          "name": "stderr",
          "text": [
            "\rPredicting future:  27%|██▋       | 8/30 [00:01<00:03,  6.46it/s]"
          ]
        },
        {
          "output_type": "stream",
          "name": "stdout",
          "text": [
            "\u001b[1m1/1\u001b[0m \u001b[32m━━━━━━━━━━━━━━━━━━━━\u001b[0m\u001b[37m\u001b[0m \u001b[1m0s\u001b[0m 57ms/step\n"
          ]
        },
        {
          "output_type": "stream",
          "name": "stderr",
          "text": [
            "\rPredicting future:  30%|███       | 9/30 [00:01<00:03,  5.71it/s]"
          ]
        },
        {
          "output_type": "stream",
          "name": "stdout",
          "text": [
            "\u001b[1m1/1\u001b[0m \u001b[32m━━━━━━━━━━━━━━━━━━━━\u001b[0m\u001b[37m\u001b[0m \u001b[1m0s\u001b[0m 59ms/step\n"
          ]
        },
        {
          "output_type": "stream",
          "name": "stderr",
          "text": [
            "\rPredicting future:  33%|███▎      | 10/30 [00:01<00:03,  6.31it/s]"
          ]
        },
        {
          "output_type": "stream",
          "name": "stdout",
          "text": [
            "\u001b[1m1/1\u001b[0m \u001b[32m━━━━━━━━━━━━━━━━━━━━\u001b[0m\u001b[37m\u001b[0m \u001b[1m0s\u001b[0m 52ms/step\n"
          ]
        },
        {
          "output_type": "stream",
          "name": "stderr",
          "text": [
            "\rPredicting future:  37%|███▋      | 11/30 [00:01<00:02,  6.57it/s]"
          ]
        },
        {
          "output_type": "stream",
          "name": "stdout",
          "text": [
            "\u001b[1m1/1\u001b[0m \u001b[32m━━━━━━━━━━━━━━━━━━━━\u001b[0m\u001b[37m\u001b[0m \u001b[1m0s\u001b[0m 53ms/step\n"
          ]
        },
        {
          "output_type": "stream",
          "name": "stderr",
          "text": [
            "\rPredicting future:  40%|████      | 12/30 [00:01<00:02,  7.09it/s]"
          ]
        },
        {
          "output_type": "stream",
          "name": "stdout",
          "text": [
            "\u001b[1m1/1\u001b[0m \u001b[32m━━━━━━━━━━━━━━━━━━━━\u001b[0m\u001b[37m\u001b[0m \u001b[1m0s\u001b[0m 58ms/step\n"
          ]
        },
        {
          "output_type": "stream",
          "name": "stderr",
          "text": [
            "\rPredicting future:  43%|████▎     | 13/30 [00:01<00:02,  7.41it/s]"
          ]
        },
        {
          "output_type": "stream",
          "name": "stdout",
          "text": [
            "\u001b[1m1/1\u001b[0m \u001b[32m━━━━━━━━━━━━━━━━━━━━\u001b[0m\u001b[37m\u001b[0m \u001b[1m0s\u001b[0m 61ms/step\n"
          ]
        },
        {
          "output_type": "stream",
          "name": "stderr",
          "text": [
            "\rPredicting future:  47%|████▋     | 14/30 [00:02<00:02,  7.70it/s]"
          ]
        },
        {
          "output_type": "stream",
          "name": "stdout",
          "text": [
            "\u001b[1m1/1\u001b[0m \u001b[32m━━━━━━━━━━━━━━━━━━━━\u001b[0m\u001b[37m\u001b[0m \u001b[1m0s\u001b[0m 71ms/step\n"
          ]
        },
        {
          "output_type": "stream",
          "name": "stderr",
          "text": [
            "\rPredicting future:  50%|█████     | 15/30 [00:02<00:01,  7.61it/s]"
          ]
        },
        {
          "output_type": "stream",
          "name": "stdout",
          "text": [
            "\u001b[1m1/1\u001b[0m \u001b[32m━━━━━━━━━━━━━━━━━━━━\u001b[0m\u001b[37m\u001b[0m \u001b[1m0s\u001b[0m 63ms/step\n"
          ]
        },
        {
          "output_type": "stream",
          "name": "stderr",
          "text": [
            "\rPredicting future:  53%|█████▎    | 16/30 [00:02<00:01,  7.67it/s]"
          ]
        },
        {
          "output_type": "stream",
          "name": "stdout",
          "text": [
            "\u001b[1m1/1\u001b[0m \u001b[32m━━━━━━━━━━━━━━━━━━━━\u001b[0m\u001b[37m\u001b[0m \u001b[1m0s\u001b[0m 64ms/step\n"
          ]
        },
        {
          "output_type": "stream",
          "name": "stderr",
          "text": [
            "\rPredicting future:  57%|█████▋    | 17/30 [00:02<00:01,  7.34it/s]"
          ]
        },
        {
          "output_type": "stream",
          "name": "stdout",
          "text": [
            "\u001b[1m1/1\u001b[0m \u001b[32m━━━━━━━━━━━━━━━━━━━━\u001b[0m\u001b[37m\u001b[0m \u001b[1m0s\u001b[0m 61ms/step\n"
          ]
        },
        {
          "output_type": "stream",
          "name": "stderr",
          "text": [
            "\rPredicting future:  60%|██████    | 18/30 [00:02<00:01,  7.57it/s]"
          ]
        },
        {
          "output_type": "stream",
          "name": "stdout",
          "text": [
            "\u001b[1m1/1\u001b[0m \u001b[32m━━━━━━━━━━━━━━━━━━━━\u001b[0m\u001b[37m\u001b[0m \u001b[1m0s\u001b[0m 56ms/step\n"
          ]
        },
        {
          "output_type": "stream",
          "name": "stderr",
          "text": [
            "\rPredicting future:  63%|██████▎   | 19/30 [00:02<00:01,  7.47it/s]"
          ]
        },
        {
          "output_type": "stream",
          "name": "stdout",
          "text": [
            "\u001b[1m1/1\u001b[0m \u001b[32m━━━━━━━━━━━━━━━━━━━━\u001b[0m\u001b[37m\u001b[0m \u001b[1m0s\u001b[0m 59ms/step\n"
          ]
        },
        {
          "output_type": "stream",
          "name": "stderr",
          "text": [
            "\rPredicting future:  67%|██████▋   | 20/30 [00:02<00:01,  7.35it/s]"
          ]
        },
        {
          "output_type": "stream",
          "name": "stdout",
          "text": [
            "\u001b[1m1/1\u001b[0m \u001b[32m━━━━━━━━━━━━━━━━━━━━\u001b[0m\u001b[37m\u001b[0m \u001b[1m0s\u001b[0m 61ms/step\n"
          ]
        },
        {
          "output_type": "stream",
          "name": "stderr",
          "text": [
            "\rPredicting future:  70%|███████   | 21/30 [00:03<00:01,  7.29it/s]"
          ]
        },
        {
          "output_type": "stream",
          "name": "stdout",
          "text": [
            "\u001b[1m1/1\u001b[0m \u001b[32m━━━━━━━━━━━━━━━━━━━━\u001b[0m\u001b[37m\u001b[0m \u001b[1m0s\u001b[0m 58ms/step\n"
          ]
        },
        {
          "output_type": "stream",
          "name": "stderr",
          "text": [
            "\rPredicting future:  73%|███████▎  | 22/30 [00:03<00:01,  7.18it/s]"
          ]
        },
        {
          "output_type": "stream",
          "name": "stdout",
          "text": [
            "\u001b[1m1/1\u001b[0m \u001b[32m━━━━━━━━━━━━━━━━━━━━\u001b[0m\u001b[37m\u001b[0m \u001b[1m0s\u001b[0m 73ms/step\n"
          ]
        },
        {
          "output_type": "stream",
          "name": "stderr",
          "text": [
            "\rPredicting future:  77%|███████▋  | 23/30 [00:03<00:00,  7.15it/s]"
          ]
        },
        {
          "output_type": "stream",
          "name": "stdout",
          "text": [
            "\u001b[1m1/1\u001b[0m \u001b[32m━━━━━━━━━━━━━━━━━━━━\u001b[0m\u001b[37m\u001b[0m \u001b[1m0s\u001b[0m 68ms/step\n"
          ]
        },
        {
          "output_type": "stream",
          "name": "stderr",
          "text": [
            "\rPredicting future:  80%|████████  | 24/30 [00:03<00:00,  6.87it/s]"
          ]
        },
        {
          "output_type": "stream",
          "name": "stdout",
          "text": [
            "\u001b[1m1/1\u001b[0m \u001b[32m━━━━━━━━━━━━━━━━━━━━\u001b[0m\u001b[37m\u001b[0m \u001b[1m0s\u001b[0m 69ms/step\n"
          ]
        },
        {
          "output_type": "stream",
          "name": "stderr",
          "text": [
            "\rPredicting future:  83%|████████▎ | 25/30 [00:03<00:00,  6.79it/s]"
          ]
        },
        {
          "output_type": "stream",
          "name": "stdout",
          "text": [
            "\u001b[1m1/1\u001b[0m \u001b[32m━━━━━━━━━━━━━━━━━━━━\u001b[0m\u001b[37m\u001b[0m \u001b[1m0s\u001b[0m 61ms/step\n"
          ]
        },
        {
          "output_type": "stream",
          "name": "stderr",
          "text": [
            "\rPredicting future:  87%|████████▋ | 26/30 [00:03<00:00,  6.79it/s]"
          ]
        },
        {
          "output_type": "stream",
          "name": "stdout",
          "text": [
            "\u001b[1m1/1\u001b[0m \u001b[32m━━━━━━━━━━━━━━━━━━━━\u001b[0m\u001b[37m\u001b[0m \u001b[1m0s\u001b[0m 56ms/step\n"
          ]
        },
        {
          "output_type": "stream",
          "name": "stderr",
          "text": [
            "\rPredicting future:  90%|█████████ | 27/30 [00:03<00:00,  6.86it/s]"
          ]
        },
        {
          "output_type": "stream",
          "name": "stdout",
          "text": [
            "\u001b[1m1/1\u001b[0m \u001b[32m━━━━━━━━━━━━━━━━━━━━\u001b[0m\u001b[37m\u001b[0m \u001b[1m0s\u001b[0m 39ms/step\n",
            "\u001b[1m1/1\u001b[0m \u001b[32m━━━━━━━━━━━━━━━━━━━━\u001b[0m\u001b[37m\u001b[0m \u001b[1m0s\u001b[0m 41ms/step\n"
          ]
        },
        {
          "output_type": "stream",
          "name": "stderr",
          "text": [
            "\rPredicting future:  97%|█████████▋| 29/30 [00:04<00:00,  8.54it/s]"
          ]
        },
        {
          "output_type": "stream",
          "name": "stdout",
          "text": [
            "\u001b[1m1/1\u001b[0m \u001b[32m━━━━━━━━━━━━━━━━━━━━\u001b[0m\u001b[37m\u001b[0m \u001b[1m0s\u001b[0m 39ms/step\n"
          ]
        },
        {
          "output_type": "stream",
          "name": "stderr",
          "text": [
            "\rPredicting future: 100%|██████████| 30/30 [00:04<00:00,  7.21it/s]"
          ]
        },
        {
          "output_type": "stream",
          "name": "stdout",
          "text": [
            "\n",
            "💾 Predictions saved to: /content/AAPL_predictions.csv\n"
          ]
        },
        {
          "output_type": "stream",
          "name": "stderr",
          "text": [
            "\n"
          ]
        },
        {
          "output_type": "display_data",
          "data": {
            "text/plain": [
              "<IPython.core.display.Javascript object>"
            ],
            "application/javascript": [
              "\n",
              "    async function download(id, filename, size) {\n",
              "      if (!google.colab.kernel.accessAllowed) {\n",
              "        return;\n",
              "      }\n",
              "      const div = document.createElement('div');\n",
              "      const label = document.createElement('label');\n",
              "      label.textContent = `Downloading \"${filename}\": `;\n",
              "      div.appendChild(label);\n",
              "      const progress = document.createElement('progress');\n",
              "      progress.max = size;\n",
              "      div.appendChild(progress);\n",
              "      document.body.appendChild(div);\n",
              "\n",
              "      const buffers = [];\n",
              "      let downloaded = 0;\n",
              "\n",
              "      const channel = await google.colab.kernel.comms.open(id);\n",
              "      // Send a message to notify the kernel that we're ready.\n",
              "      channel.send({})\n",
              "\n",
              "      for await (const message of channel.messages) {\n",
              "        // Send a message to notify the kernel that we're ready.\n",
              "        channel.send({})\n",
              "        if (message.buffers) {\n",
              "          for (const buffer of message.buffers) {\n",
              "            buffers.push(buffer);\n",
              "            downloaded += buffer.byteLength;\n",
              "            progress.value = downloaded;\n",
              "          }\n",
              "        }\n",
              "      }\n",
              "      const blob = new Blob(buffers, {type: 'application/binary'});\n",
              "      const a = document.createElement('a');\n",
              "      a.href = window.URL.createObjectURL(blob);\n",
              "      a.download = filename;\n",
              "      div.appendChild(a);\n",
              "      a.click();\n",
              "      div.remove();\n",
              "    }\n",
              "  "
            ]
          },
          "metadata": {}
        },
        {
          "output_type": "display_data",
          "data": {
            "text/plain": [
              "<IPython.core.display.Javascript object>"
            ],
            "application/javascript": [
              "download(\"download_538e9901-ebbb-48ec-a421-a0c0aa83e6e4\", \"AAPL_predictions.csv\", 1070)"
            ]
          },
          "metadata": {}
        },
        {
          "output_type": "display_data",
          "data": {
            "text/html": [
              "<html>\n",
              "<head><meta charset=\"utf-8\" /></head>\n",
              "<body>\n",
              "    <div>            <script src=\"https://cdnjs.cloudflare.com/ajax/libs/mathjax/2.7.5/MathJax.js?config=TeX-AMS-MML_SVG\"></script><script type=\"text/javascript\">if (window.MathJax && window.MathJax.Hub && window.MathJax.Hub.Config) {window.MathJax.Hub.Config({SVG: {font: \"STIX-Web\"}});}</script>                <script type=\"text/javascript\">window.PlotlyConfig = {MathJaxConfig: 'local'};</script>\n",
              "        <script charset=\"utf-8\" src=\"https://cdn.plot.ly/plotly-3.0.1.min.js\" integrity=\"sha256-oy6Be7Eh6eiQFs5M7oXuPxxm9qbJXEtTpfSI93dW16Q=\" crossorigin=\"anonymous\"></script>                <div id=\"8f3602ac-159e-4116-8bff-176271158526\" class=\"plotly-graph-div\" style=\"height:525px; width:100%;\"></div>            <script type=\"text/javascript\">                window.PLOTLYENV=window.PLOTLYENV || {};                                if (document.getElementById(\"8f3602ac-159e-4116-8bff-176271158526\")) {                    Plotly.newPlot(                        \"8f3602ac-159e-4116-8bff-176271158526\",                        [{\"mode\":\"lines\",\"name\":\"Historical Price\",\"x\":[\"2025-03-18T00:00:00.000000000\",\"2025-03-19T00:00:00.000000000\",\"2025-03-20T00:00:00.000000000\",\"2025-03-21T00:00:00.000000000\",\"2025-03-24T00:00:00.000000000\",\"2025-03-25T00:00:00.000000000\",\"2025-03-26T00:00:00.000000000\",\"2025-03-27T00:00:00.000000000\",\"2025-03-28T00:00:00.000000000\",\"2025-03-31T00:00:00.000000000\",\"2025-04-01T00:00:00.000000000\",\"2025-04-02T00:00:00.000000000\",\"2025-04-03T00:00:00.000000000\",\"2025-04-04T00:00:00.000000000\",\"2025-04-07T00:00:00.000000000\",\"2025-04-08T00:00:00.000000000\",\"2025-04-09T00:00:00.000000000\",\"2025-04-10T00:00:00.000000000\",\"2025-04-11T00:00:00.000000000\",\"2025-04-14T00:00:00.000000000\",\"2025-04-15T00:00:00.000000000\",\"2025-04-16T00:00:00.000000000\",\"2025-04-17T00:00:00.000000000\",\"2025-04-21T00:00:00.000000000\",\"2025-04-22T00:00:00.000000000\",\"2025-04-23T00:00:00.000000000\",\"2025-04-24T00:00:00.000000000\",\"2025-04-25T00:00:00.000000000\",\"2025-04-28T00:00:00.000000000\",\"2025-04-29T00:00:00.000000000\",\"2025-04-30T00:00:00.000000000\",\"2025-05-01T00:00:00.000000000\",\"2025-05-02T00:00:00.000000000\",\"2025-05-05T00:00:00.000000000\",\"2025-05-06T00:00:00.000000000\",\"2025-05-07T00:00:00.000000000\",\"2025-05-08T00:00:00.000000000\",\"2025-05-09T00:00:00.000000000\",\"2025-05-12T00:00:00.000000000\",\"2025-05-13T00:00:00.000000000\",\"2025-05-14T00:00:00.000000000\",\"2025-05-15T00:00:00.000000000\",\"2025-05-16T00:00:00.000000000\",\"2025-05-19T00:00:00.000000000\",\"2025-05-20T00:00:00.000000000\",\"2025-05-21T00:00:00.000000000\",\"2025-05-22T00:00:00.000000000\",\"2025-05-23T00:00:00.000000000\",\"2025-05-27T00:00:00.000000000\",\"2025-05-28T00:00:00.000000000\",\"2025-05-29T00:00:00.000000000\",\"2025-05-30T00:00:00.000000000\",\"2025-06-02T00:00:00.000000000\",\"2025-06-03T00:00:00.000000000\",\"2025-06-04T00:00:00.000000000\",\"2025-06-05T00:00:00.000000000\",\"2025-06-06T00:00:00.000000000\",\"2025-06-09T00:00:00.000000000\",\"2025-06-10T00:00:00.000000000\",\"2025-06-11T00:00:00.000000000\",\"2025-06-12T00:00:00.000000000\",\"2025-06-13T00:00:00.000000000\",\"2025-06-16T00:00:00.000000000\",\"2025-06-17T00:00:00.000000000\",\"2025-06-18T00:00:00.000000000\",\"2025-06-20T00:00:00.000000000\",\"2025-06-23T00:00:00.000000000\",\"2025-06-24T00:00:00.000000000\",\"2025-06-25T00:00:00.000000000\",\"2025-06-26T00:00:00.000000000\",\"2025-06-27T00:00:00.000000000\",\"2025-06-30T00:00:00.000000000\",\"2025-07-01T00:00:00.000000000\",\"2025-07-02T00:00:00.000000000\",\"2025-07-03T00:00:00.000000000\",\"2025-07-07T00:00:00.000000000\",\"2025-07-08T00:00:00.000000000\",\"2025-07-09T00:00:00.000000000\",\"2025-07-10T00:00:00.000000000\",\"2025-07-11T00:00:00.000000000\",\"2025-07-14T00:00:00.000000000\",\"2025-07-15T00:00:00.000000000\",\"2025-07-16T00:00:00.000000000\",\"2025-07-17T00:00:00.000000000\",\"2025-07-18T00:00:00.000000000\",\"2025-07-21T00:00:00.000000000\",\"2025-07-22T00:00:00.000000000\",\"2025-07-23T00:00:00.000000000\",\"2025-07-24T00:00:00.000000000\",\"2025-07-25T00:00:00.000000000\",\"2025-07-28T00:00:00.000000000\",\"2025-07-29T00:00:00.000000000\",\"2025-07-30T00:00:00.000000000\",\"2025-07-31T00:00:00.000000000\",\"2025-08-01T00:00:00.000000000\",\"2025-08-04T00:00:00.000000000\",\"2025-08-05T00:00:00.000000000\",\"2025-08-06T00:00:00.000000000\",\"2025-08-07T00:00:00.000000000\",\"2025-08-08T00:00:00.000000000\"],\"y\":{\"dtype\":\"f8\",\"bdata\":\"AAAAoCqNakAAAADgqN5qQAAAAEA6umpAAAAAIH4\\u002fa0AAAAAAHI5rQAAAAICf7mtAAAAAAK2na0AAAACg0fFrQAAAAACrM2tAAAAA4Nm6a0AAAAAAutxrQAAAAOAY82tAAAAAoJBdaUAAAAAARIRnQAAAAKAdp2ZAAAAA4DaGZUAAAADg3dJoQAAAAMB1xWdAAAAA4H68aEAAAAAgJ0hpQAAAAEACPGlAAAAAoH9AaEAAAADgGpdoQAAAAGAGHWhAAAAAQE\\u002fvaEAAAABAoIppQAAAAIAbA2pAAAAAgDAgakAAAABgrDtqQAAAAGDeXWpAAAAAQBiHakAAAADgTKFqQAAAACCYomlAAAAAICXUaEAAAAAgAMhoQAAAAIDGf2hAAAAAYGenaEAAAADgo8hoQAAAAKBHWWpAAAAAgMKdakAAAABgj4pqQAAAAGBmbmpAAAAA4FFoakAAAADA9RhqQAAAACCF22lAAAAAQOFCaUAAAAAghStpQAAAAOCjaGhAAAAAYLgGaUAAAACgcA1pQAAAAGBm\\u002fmhAAAAAQDMbaUAAAABgZjZpQAAAAOCjaGlAAAAAgD1aaUAAAAAAKRRpQAAAAKBwfWlAAAAAYGYuaUAAAACgcFVpQAAAAMD12GhAAAAAYGbmaEAAAABgZo5oQAAAAKBwzWhAAAAA4Hp0aEAAAABgj5JoQAAAAAAAIGlAAAAAAAAwaUAAAACgmQlpQAAAAIDrMWlAAAAAAAAgaUAAAABgjyJpQAAAAKBwpWlAAAAAgD36aUAAAACAFI5qQAAAAKCZsWpAAAAAYGY+akAAAADgUUBqQAAAAOB6ZGpAAAAAwB6NakAAAADAHmVqQAAAAADXE2pAAAAAIIUjakAAAADAHkVqQAAAAOCjQGpAAAAAgMJlakAAAAAgXI9qQAAAAMDMzGpAAAAAwMzEakAAAADgUbhqQAAAAAApvGpAAAAAoJnBakAAAADgo2hqQAAAAKCZIWpAAAAAgD3yaUAAAAAAKUxpQAAAAEAza2lAAAAAoHBdaUAAAAAAAKhqQAAAAMD1gGtAAAAAQDOrbEA=\",\"shape\":\"100, 1\"},\"type\":\"scatter\"},{\"mode\":\"lines+markers\",\"name\":\"Predicted Price\",\"x\":[\"2025-08-09T00:00:00\",\"2025-08-10T00:00:00\",\"2025-08-11T00:00:00\",\"2025-08-12T00:00:00\",\"2025-08-13T00:00:00\",\"2025-08-14T00:00:00\",\"2025-08-15T00:00:00\",\"2025-08-16T00:00:00\",\"2025-08-17T00:00:00\",\"2025-08-18T00:00:00\",\"2025-08-19T00:00:00\",\"2025-08-20T00:00:00\",\"2025-08-21T00:00:00\",\"2025-08-22T00:00:00\",\"2025-08-23T00:00:00\",\"2025-08-24T00:00:00\",\"2025-08-25T00:00:00\",\"2025-08-26T00:00:00\",\"2025-08-27T00:00:00\",\"2025-08-28T00:00:00\",\"2025-08-29T00:00:00\",\"2025-08-30T00:00:00\",\"2025-08-31T00:00:00\",\"2025-09-01T00:00:00\",\"2025-09-02T00:00:00\",\"2025-09-03T00:00:00\",\"2025-09-04T00:00:00\",\"2025-09-05T00:00:00\",\"2025-09-06T00:00:00\",\"2025-09-07T00:00:00\"],\"y\":{\"dtype\":\"f8\",\"bdata\":\"8FxwPh\\u002f8aEAADg9HQvVoQIAE0tD54mhAUC+TmTTJaEBQz3HouKpoQIBtHZGJiWhAEOPdXP1maEAAVQH40UNoQECaanNEIGhAAOxGkEb8Z0BASBtAG9hnQGCh4wlytGdAILTvtISRZ0AQLMeEKG9nQJDG\\u002fNbOTWdAIJa3gdYtZ0AwFVpwOg9nQLAevdCx8WZAMH0CXgDVZkDA3P+chLhmQDCwhCsgnGZAAL0E9uZ\\u002fZkCgYaIKTWRmQCAlKEuLSWZAgPn1SN4vZkCQwv2rhRdmQKBF5eVbAGZA8L7Jbq3oZUDQI+U4btBlQDCk8p4suGVA\"},\"type\":\"scatter\"}],                        {\"template\":{\"data\":{\"histogram2dcontour\":[{\"type\":\"histogram2dcontour\",\"colorbar\":{\"outlinewidth\":0,\"ticks\":\"\"},\"colorscale\":[[0.0,\"#0d0887\"],[0.1111111111111111,\"#46039f\"],[0.2222222222222222,\"#7201a8\"],[0.3333333333333333,\"#9c179e\"],[0.4444444444444444,\"#bd3786\"],[0.5555555555555556,\"#d8576b\"],[0.6666666666666666,\"#ed7953\"],[0.7777777777777778,\"#fb9f3a\"],[0.8888888888888888,\"#fdca26\"],[1.0,\"#f0f921\"]]}],\"choropleth\":[{\"type\":\"choropleth\",\"colorbar\":{\"outlinewidth\":0,\"ticks\":\"\"}}],\"histogram2d\":[{\"type\":\"histogram2d\",\"colorbar\":{\"outlinewidth\":0,\"ticks\":\"\"},\"colorscale\":[[0.0,\"#0d0887\"],[0.1111111111111111,\"#46039f\"],[0.2222222222222222,\"#7201a8\"],[0.3333333333333333,\"#9c179e\"],[0.4444444444444444,\"#bd3786\"],[0.5555555555555556,\"#d8576b\"],[0.6666666666666666,\"#ed7953\"],[0.7777777777777778,\"#fb9f3a\"],[0.8888888888888888,\"#fdca26\"],[1.0,\"#f0f921\"]]}],\"heatmap\":[{\"type\":\"heatmap\",\"colorbar\":{\"outlinewidth\":0,\"ticks\":\"\"},\"colorscale\":[[0.0,\"#0d0887\"],[0.1111111111111111,\"#46039f\"],[0.2222222222222222,\"#7201a8\"],[0.3333333333333333,\"#9c179e\"],[0.4444444444444444,\"#bd3786\"],[0.5555555555555556,\"#d8576b\"],[0.6666666666666666,\"#ed7953\"],[0.7777777777777778,\"#fb9f3a\"],[0.8888888888888888,\"#fdca26\"],[1.0,\"#f0f921\"]]}],\"contourcarpet\":[{\"type\":\"contourcarpet\",\"colorbar\":{\"outlinewidth\":0,\"ticks\":\"\"}}],\"contour\":[{\"type\":\"contour\",\"colorbar\":{\"outlinewidth\":0,\"ticks\":\"\"},\"colorscale\":[[0.0,\"#0d0887\"],[0.1111111111111111,\"#46039f\"],[0.2222222222222222,\"#7201a8\"],[0.3333333333333333,\"#9c179e\"],[0.4444444444444444,\"#bd3786\"],[0.5555555555555556,\"#d8576b\"],[0.6666666666666666,\"#ed7953\"],[0.7777777777777778,\"#fb9f3a\"],[0.8888888888888888,\"#fdca26\"],[1.0,\"#f0f921\"]]}],\"surface\":[{\"type\":\"surface\",\"colorbar\":{\"outlinewidth\":0,\"ticks\":\"\"},\"colorscale\":[[0.0,\"#0d0887\"],[0.1111111111111111,\"#46039f\"],[0.2222222222222222,\"#7201a8\"],[0.3333333333333333,\"#9c179e\"],[0.4444444444444444,\"#bd3786\"],[0.5555555555555556,\"#d8576b\"],[0.6666666666666666,\"#ed7953\"],[0.7777777777777778,\"#fb9f3a\"],[0.8888888888888888,\"#fdca26\"],[1.0,\"#f0f921\"]]}],\"mesh3d\":[{\"type\":\"mesh3d\",\"colorbar\":{\"outlinewidth\":0,\"ticks\":\"\"}}],\"scatter\":[{\"fillpattern\":{\"fillmode\":\"overlay\",\"size\":10,\"solidity\":0.2},\"type\":\"scatter\"}],\"parcoords\":[{\"type\":\"parcoords\",\"line\":{\"colorbar\":{\"outlinewidth\":0,\"ticks\":\"\"}}}],\"scatterpolargl\":[{\"type\":\"scatterpolargl\",\"marker\":{\"colorbar\":{\"outlinewidth\":0,\"ticks\":\"\"}}}],\"bar\":[{\"error_x\":{\"color\":\"#2a3f5f\"},\"error_y\":{\"color\":\"#2a3f5f\"},\"marker\":{\"line\":{\"color\":\"#E5ECF6\",\"width\":0.5},\"pattern\":{\"fillmode\":\"overlay\",\"size\":10,\"solidity\":0.2}},\"type\":\"bar\"}],\"scattergeo\":[{\"type\":\"scattergeo\",\"marker\":{\"colorbar\":{\"outlinewidth\":0,\"ticks\":\"\"}}}],\"scatterpolar\":[{\"type\":\"scatterpolar\",\"marker\":{\"colorbar\":{\"outlinewidth\":0,\"ticks\":\"\"}}}],\"histogram\":[{\"marker\":{\"pattern\":{\"fillmode\":\"overlay\",\"size\":10,\"solidity\":0.2}},\"type\":\"histogram\"}],\"scattergl\":[{\"type\":\"scattergl\",\"marker\":{\"colorbar\":{\"outlinewidth\":0,\"ticks\":\"\"}}}],\"scatter3d\":[{\"type\":\"scatter3d\",\"line\":{\"colorbar\":{\"outlinewidth\":0,\"ticks\":\"\"}},\"marker\":{\"colorbar\":{\"outlinewidth\":0,\"ticks\":\"\"}}}],\"scattermap\":[{\"type\":\"scattermap\",\"marker\":{\"colorbar\":{\"outlinewidth\":0,\"ticks\":\"\"}}}],\"scattermapbox\":[{\"type\":\"scattermapbox\",\"marker\":{\"colorbar\":{\"outlinewidth\":0,\"ticks\":\"\"}}}],\"scatterternary\":[{\"type\":\"scatterternary\",\"marker\":{\"colorbar\":{\"outlinewidth\":0,\"ticks\":\"\"}}}],\"scattercarpet\":[{\"type\":\"scattercarpet\",\"marker\":{\"colorbar\":{\"outlinewidth\":0,\"ticks\":\"\"}}}],\"carpet\":[{\"aaxis\":{\"endlinecolor\":\"#2a3f5f\",\"gridcolor\":\"white\",\"linecolor\":\"white\",\"minorgridcolor\":\"white\",\"startlinecolor\":\"#2a3f5f\"},\"baxis\":{\"endlinecolor\":\"#2a3f5f\",\"gridcolor\":\"white\",\"linecolor\":\"white\",\"minorgridcolor\":\"white\",\"startlinecolor\":\"#2a3f5f\"},\"type\":\"carpet\"}],\"table\":[{\"cells\":{\"fill\":{\"color\":\"#EBF0F8\"},\"line\":{\"color\":\"white\"}},\"header\":{\"fill\":{\"color\":\"#C8D4E3\"},\"line\":{\"color\":\"white\"}},\"type\":\"table\"}],\"barpolar\":[{\"marker\":{\"line\":{\"color\":\"#E5ECF6\",\"width\":0.5},\"pattern\":{\"fillmode\":\"overlay\",\"size\":10,\"solidity\":0.2}},\"type\":\"barpolar\"}],\"pie\":[{\"automargin\":true,\"type\":\"pie\"}]},\"layout\":{\"autotypenumbers\":\"strict\",\"colorway\":[\"#636efa\",\"#EF553B\",\"#00cc96\",\"#ab63fa\",\"#FFA15A\",\"#19d3f3\",\"#FF6692\",\"#B6E880\",\"#FF97FF\",\"#FECB52\"],\"font\":{\"color\":\"#2a3f5f\"},\"hovermode\":\"closest\",\"hoverlabel\":{\"align\":\"left\"},\"paper_bgcolor\":\"white\",\"plot_bgcolor\":\"#E5ECF6\",\"polar\":{\"bgcolor\":\"#E5ECF6\",\"angularaxis\":{\"gridcolor\":\"white\",\"linecolor\":\"white\",\"ticks\":\"\"},\"radialaxis\":{\"gridcolor\":\"white\",\"linecolor\":\"white\",\"ticks\":\"\"}},\"ternary\":{\"bgcolor\":\"#E5ECF6\",\"aaxis\":{\"gridcolor\":\"white\",\"linecolor\":\"white\",\"ticks\":\"\"},\"baxis\":{\"gridcolor\":\"white\",\"linecolor\":\"white\",\"ticks\":\"\"},\"caxis\":{\"gridcolor\":\"white\",\"linecolor\":\"white\",\"ticks\":\"\"}},\"coloraxis\":{\"colorbar\":{\"outlinewidth\":0,\"ticks\":\"\"}},\"colorscale\":{\"sequential\":[[0.0,\"#0d0887\"],[0.1111111111111111,\"#46039f\"],[0.2222222222222222,\"#7201a8\"],[0.3333333333333333,\"#9c179e\"],[0.4444444444444444,\"#bd3786\"],[0.5555555555555556,\"#d8576b\"],[0.6666666666666666,\"#ed7953\"],[0.7777777777777778,\"#fb9f3a\"],[0.8888888888888888,\"#fdca26\"],[1.0,\"#f0f921\"]],\"sequentialminus\":[[0.0,\"#0d0887\"],[0.1111111111111111,\"#46039f\"],[0.2222222222222222,\"#7201a8\"],[0.3333333333333333,\"#9c179e\"],[0.4444444444444444,\"#bd3786\"],[0.5555555555555556,\"#d8576b\"],[0.6666666666666666,\"#ed7953\"],[0.7777777777777778,\"#fb9f3a\"],[0.8888888888888888,\"#fdca26\"],[1.0,\"#f0f921\"]],\"diverging\":[[0,\"#8e0152\"],[0.1,\"#c51b7d\"],[0.2,\"#de77ae\"],[0.3,\"#f1b6da\"],[0.4,\"#fde0ef\"],[0.5,\"#f7f7f7\"],[0.6,\"#e6f5d0\"],[0.7,\"#b8e186\"],[0.8,\"#7fbc41\"],[0.9,\"#4d9221\"],[1,\"#276419\"]]},\"xaxis\":{\"gridcolor\":\"white\",\"linecolor\":\"white\",\"ticks\":\"\",\"title\":{\"standoff\":15},\"zerolinecolor\":\"white\",\"automargin\":true,\"zerolinewidth\":2},\"yaxis\":{\"gridcolor\":\"white\",\"linecolor\":\"white\",\"ticks\":\"\",\"title\":{\"standoff\":15},\"zerolinecolor\":\"white\",\"automargin\":true,\"zerolinewidth\":2},\"scene\":{\"xaxis\":{\"backgroundcolor\":\"#E5ECF6\",\"gridcolor\":\"white\",\"linecolor\":\"white\",\"showbackground\":true,\"ticks\":\"\",\"zerolinecolor\":\"white\",\"gridwidth\":2},\"yaxis\":{\"backgroundcolor\":\"#E5ECF6\",\"gridcolor\":\"white\",\"linecolor\":\"white\",\"showbackground\":true,\"ticks\":\"\",\"zerolinecolor\":\"white\",\"gridwidth\":2},\"zaxis\":{\"backgroundcolor\":\"#E5ECF6\",\"gridcolor\":\"white\",\"linecolor\":\"white\",\"showbackground\":true,\"ticks\":\"\",\"zerolinecolor\":\"white\",\"gridwidth\":2}},\"shapedefaults\":{\"line\":{\"color\":\"#2a3f5f\"}},\"annotationdefaults\":{\"arrowcolor\":\"#2a3f5f\",\"arrowhead\":0,\"arrowwidth\":1},\"geo\":{\"bgcolor\":\"white\",\"landcolor\":\"#E5ECF6\",\"subunitcolor\":\"white\",\"showland\":true,\"showlakes\":true,\"lakecolor\":\"white\"},\"title\":{\"x\":0.05},\"mapbox\":{\"style\":\"light\"}}},\"title\":{\"text\":\"AAPL Price Forecast\"},\"xaxis\":{\"title\":{\"text\":\"Date\"}},\"yaxis\":{\"title\":{\"text\":\"Price ($)\"}}},                        {\"responsive\": true}                    ).then(function(){\n",
              "                            \n",
              "var gd = document.getElementById('8f3602ac-159e-4116-8bff-176271158526');\n",
              "var x = new MutationObserver(function (mutations, observer) {{\n",
              "        var display = window.getComputedStyle(gd).display;\n",
              "        if (!display || display === 'none') {{\n",
              "            console.log([gd, 'removed!']);\n",
              "            Plotly.purge(gd);\n",
              "            observer.disconnect();\n",
              "        }}\n",
              "}});\n",
              "\n",
              "// Listen for the removal of the full notebook cells\n",
              "var notebookContainer = gd.closest('#notebook-container');\n",
              "if (notebookContainer) {{\n",
              "    x.observe(notebookContainer, {childList: true});\n",
              "}}\n",
              "\n",
              "// Listen for the clearing of the current output cell\n",
              "var outputEl = gd.closest('.output');\n",
              "if (outputEl) {{\n",
              "    x.observe(outputEl, {childList: true});\n",
              "}}\n",
              "\n",
              "                        })                };            </script>        </div>\n",
              "</body>\n",
              "</html>"
            ]
          },
          "metadata": {}
        }
      ]
    }
  ]
}